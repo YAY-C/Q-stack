


import numpy as np


hyper_searchs = np.load('./CV-test_TMC-Cr-Gaussian.txt_5-hyper-runs.npy', allow_pickle=True)
hyper_searchs.shape
#len(hyper_searchs[1][:])
hyper_searchs[0]
np.savetxt('data2.dat', hyper_searchs[0])


eta_set = {s:[] for s in set(hyper_searchs[0,:,3])}
eta_set
for hyp in hyper_searchs[0]:
    eta_set[hyp[3]].append(hyp)
all = []
for k,v in eta_set.items():
    v = np.array(v)
    ind = np.argsort(v[:,2])
    eta_set[k]=v[ind]
    all.extend(eta_set[k])

all = np.array(all)
all
np.savetxt('data2.dat', all)


ind = np.argsort(hyper_searchs[0,:,2])
error_ind = hyper_searchs[0][ind]
print(error_ind[:10])


# from mpl_toolkits import mplot3d
# %matplotlib inline
# import matplotlib.pyplot as plt


%reload_ext gnuplot_kernel


%gnuplot inline svg size 1000,500


%%gnuplot
set multiplot layout 1,2
set title "Hyper-parameters opitmization"
set log y
set log x
set xlabel 'sigma'
set ylabel 'eta'
set pm3d map
files="./data1.dat ./data2.dat"
splot './data1.dat'
splot './data2.dat'
unset multiplot


    lcs = np.load('./CV-test_TMC-Cr-Gaussian.txt_5-lc-runs.npy')


lcs.shape
for i,l in enumerate(lcs):
    np.savetxt(f"{i}-lc_TMC-Cr-Gaussian.txt", l)


%reload_ext gnuplot_kernel
%gnuplot inline svg size 1000,500


%%gnuplot
set multiplot layout 1,2 title "Gaussian LCs (TMC-Cr)"
set ylabel 'MAE [kcal/mol]'
set xlabel "Training-set size"
unset xrange
set xrange [:]
set log xy 3
plot for [i =0:4:1] sprintf("%i",i)."-lc_TMC-Cr-Gaussian.txt" u 1:2 w lp t "lc".sprintf("%i",i)
unset log
set xrange [100:300]
set ytics 2
plot for [i =0:4:1] sprintf("%i",i)."-lc_TMC-Cr-Gaussian.txt" u 1:2 w lp noti
unset multiplot





laplacians = np.load("./LC-TMC-Cr_Laplacian_5-lc-runs.npy")


for i,l in enumerate(laplacians):
    np.savetxt(f"{i}-lc_TMC-Cr-Laplacian.txt", l)





%reload_ext gnuplot_kernel
%gnuplot inline svg size 1000,500


%%gnuplot
set multiplot layout 1,2 title "Laplacian LCs (TMC-Cr)"
set ylabel 'MAE [kcal/mol]'
set xlabel "Training-set size"
unset xrange
set xrange [:]
set log xy 3
plot for [i =0:4:1] sprintf("%i",i)."-lc_TMC-Cr-Laplacian.txt" u 1:2 w lp t "lc".sprintf("%i",i)
unset log
set xrange [100:300]
set ytics 2
plot for [i =0:4:1] sprintf("%i",i)."-lc_TMC-Cr-Laplacian.txt" u 1:2 w lp noti
unset multiplot


%reload_ext gnuplot_kernel
%gnuplot inline svg 1000,500


%%gnuplot
set log xy 3
set title 'LC TMC Cr'
set xlabel "Training set size"
set ylabel "MAE [kcal/mol]"
plot './CV-test_TMC-Cr-Gaussian.txt' u 1:2 w lp t 'Gaussian' ,\
    './LC-TMC-Cr_Laplacian' u 1:2 w lp t 'Laplacian'



